{
 "cells": [
  {
   "cell_type": "raw",
   "metadata": {},
   "source": [
    "Multithreading Vs Multiprocessing\n",
    "\n",
    "Multithreading ->\n",
    "1.The threading module comes with the standard Python library.\n",
    "2. A thread is an entity within a process that can be scheduled for execution\n"
   ]
  },
  {
   "cell_type": "code",
   "execution_count": 8,
   "metadata": {
    "scrolled": true
   },
   "outputs": [
    {
     "name": "stdout",
     "output_type": "stream",
     "text": [
      "Hello\n",
      "Hello\n",
      "Hello\n",
      "Hi\n",
      "Hi\n",
      "Hi\n"
     ]
    }
   ],
   "source": [
    "import threading              #way1\n",
    "\n",
    "def print_hello_three_times():\n",
    "    for i in range(3):\n",
    "        print(\"Hello\")\n",
    "def print_hi_three_times(): \n",
    "    for i in range(3): \n",
    "        print(\"Hi\") \n",
    "\n",
    "t1 = threading.Thread(target=print_hello_three_times)  \n",
    "t2 = threading.Thread(target=print_hi_three_times)  \n",
    "\n",
    "t1.start()\n",
    "t2.start()"
   ]
  },
  {
   "cell_type": "code",
   "execution_count": 4,
   "metadata": {},
   "outputs": [
    {
     "name": "stdout",
     "output_type": "stream",
     "text": [
      "Hello\n",
      "Hello\n",
      "Hello\n",
      "Hi\n",
      "Hi\n",
      "Hi\n"
     ]
    }
   ],
   "source": [
    "from threading import*            #2nd way to import threading\n",
    "def print_hello_three_times():\n",
    "    for i in range(3):\n",
    "        print(\"Hello\")\n",
    "def print_hi_three_times(): \n",
    "    for i in range(3): \n",
    "        print(\"Hi\") \n",
    "\n",
    "t1 = Thread(target=print_hello_three_times)  \n",
    "t2 = Thread(target=print_hi_three_times)  \n",
    "\n",
    "t1.start()\n",
    "t2.start()"
   ]
  },
  {
   "cell_type": "code",
   "execution_count": 47,
   "metadata": {
    "scrolled": false
   },
   "outputs": [
    {
     "name": "stdout",
     "output_type": "stream",
     "text": [
      "Hello\n",
      "Hi\n",
      "Hello\n",
      "Hi\n",
      "Hello\n",
      "Hello\n",
      "Hi\n",
      "Hi\n"
     ]
    }
   ],
   "source": [
    "import threading \n",
    "import time\n",
    "  \n",
    "def print_hello():\n",
    "    for i in range(4):\n",
    "        time.sleep(0.5)\n",
    "        print(\"Hello\")\n",
    "def print_hi(): \n",
    "    for i in range(4): \n",
    "        time.sleep(0.7)\n",
    "        print(\"Hi\") \n",
    "\n",
    "t1 = threading.Thread(target=print_hello)  \n",
    "t2 = threading.Thread(target=print_hi)  \n",
    "t1.start()\n",
    "t2.start()"
   ]
  },
  {
   "cell_type": "code",
   "execution_count": 19,
   "metadata": {},
   "outputs": [
    {
     "name": "stdout",
     "output_type": "stream",
     "text": [
      "Square: 100\n",
      "Cube: 1000\n",
      "Done!\n"
     ]
    }
   ],
   "source": [
    "import threading\n",
    "\n",
    "def print_cube(num):\n",
    "    \"\"\"\n",
    "    function to print cube of given num\n",
    "    \"\"\"\n",
    "    print(\"Cube: {}\".format(num * num * num))\n",
    "\n",
    "def print_square(num):\n",
    "    \"\"\"\n",
    "    function to print square of given num\n",
    "    \"\"\"\n",
    "    print(\"Square: {}\".format(num * num))\n",
    "\n",
    "if __name__ == \"__main__\":\n",
    "    # creating thread\n",
    "    t1 = threading.Thread(target=print_square, args=(10,))\n",
    "    t2 = threading.Thread(target=print_cube, args=(10,))\n",
    "\n",
    "    # starting thread 1\n",
    "    t1.start()\n",
    "    # starting thread 2\n",
    "    t2.start()\n",
    "\n",
    "    # wait until thread 1 is completely executed\n",
    "    t1.join()\n",
    "    # wait until thread 2 is completely executed\n",
    "    t2.join()\n",
    "\n",
    "    # both threads completely executed\n",
    "    print(\"Done!\")\n"
   ]
  },
  {
   "cell_type": "code",
   "execution_count": 11,
   "metadata": {},
   "outputs": [
    {
     "data": {
      "text/plain": [
       "'__main__'"
      ]
     },
     "execution_count": 11,
     "metadata": {},
     "output_type": "execute_result"
    }
   ],
   "source": [
    "__name__"
   ]
  },
  {
   "cell_type": "code",
   "execution_count": 50,
   "metadata": {},
   "outputs": [
    {
     "name": "stdout",
     "output_type": "stream",
     "text": [
      "ID of process running main program: 28721\n",
      "Main thread name: MainThread\n",
      "Task 1 assigned to thread: t1\n",
      "ID of process running task 1: 28721\n",
      "Task 2 assigned to thread: t2\n",
      "ID of process running task 2: 28721\n"
     ]
    }
   ],
   "source": [
    "# Python program to illustrate the concept\n",
    "# of threading\n",
    "import threading\n",
    "import os\n",
    "\n",
    "def task1():\n",
    "    print(\"Task 1 assigned to thread: {}\".format(threading.current_thread().name))\n",
    "    print(\"ID of process running task 1: {}\".format(os.getpid()))\n",
    "\n",
    "def task2():\n",
    "    print(\"Task 2 assigned to thread: {}\".format(threading.current_thread().name))\n",
    "    print(\"ID of process running task 2: {}\".format(os.getpid()))\n",
    "\n",
    "if __name__ == \"__main__\":\n",
    "\n",
    "    # print ID of current process\n",
    "    print(\"ID of process running main program: {}\".format(os.getpid()))\n",
    "\n",
    "    # print name of main thread\n",
    "    print(\"Main thread name: {}\".format(threading.current_thread().name))\n",
    "\n",
    "    # creating threads\n",
    "    t1 = threading.Thread(target=task1, name='t1')\n",
    "    t2 = threading.Thread(target=task2, name='t2')\n",
    "\n",
    "    # starting threads\n",
    "    t1.start()\n",
    "    t2.start()\n",
    "\n",
    "    # wait until all threads finish\n",
    "    t1.join()\n",
    "    t2.join()\n"
   ]
  },
  {
   "cell_type": "code",
   "execution_count": 51,
   "metadata": {},
   "outputs": [
    {
     "name": "stdout",
     "output_type": "stream",
     "text": [
      "Waiting for 1 second(s)Active Threads: 6\n",
      "\n",
      "Done Waiting 1  second(s)\n",
      "Finished in 1.03 second(s)\n"
     ]
    }
   ],
   "source": [
    "import threading\n",
    "import time\n",
    "\n",
    "def useless_function(seconds):\n",
    "    print(f'Waiting for {seconds} second(s)', end = \"\\n\")\n",
    "    time.sleep(seconds)\n",
    "    print(f'Done Waiting {seconds}  second(s)')\n",
    "\n",
    "start = time.perf_counter()\n",
    "t = threading.Thread(target=useless_function, args=[1])\n",
    "t.start()\n",
    "print(f'Active Threads: {threading.active_count()}')\n",
    "t.join()\n",
    "end = time.perf_counter()\n",
    "print(f'Finished in {round(end-start, 2)} second(s)') "
   ]
  },
  {
   "cell_type": "code",
   "execution_count": 52,
   "metadata": {},
   "outputs": [
    {
     "name": "stdout",
     "output_type": "stream",
     "text": [
      "Waiting for 1 second(s)\n",
      "Active Threads: 6\n",
      "Finished in 1.0 second(s)\n",
      "Done Waiting 1  second(s)\n"
     ]
    }
   ],
   "source": [
    "t = threading.Thread(target=useless_function, args=[1])\n",
    "start = time.perf_counter()\n",
    "t.start()\n",
    "time.sleep(1)\n",
    "print(f'Active Threads: {threading.active_count()}')\n",
    "end = time.perf_counter()\n",
    "print(f'Finished in {round(end-start, 2)} second(s)') "
   ]
  },
  {
   "cell_type": "code",
   "execution_count": 54,
   "metadata": {},
   "outputs": [
    {
     "name": "stdout",
     "output_type": "stream",
     "text": [
      "downloading 305821.jpg\n",
      "downloading 509922.jpg\n",
      "downloading 325812.jpg\n",
      "downloading 1252814.jpg\n",
      "downloading 1420709.jpg\n",
      "downloading 963486.jpg\n",
      "downloading 1557183.jpg\n",
      "downloading 3023211.jpg\n",
      "downloading 1031641.jpg\n",
      "downloading 439227.jpg\n",
      "downloading 696644.jpg\n",
      "downloading 911254.jpg\n",
      "downloading 1001990.jpg\n",
      "downloading 3518623.jpg\n",
      "downloading 916044.jpg\n",
      "Finished in 11.54 seconds\n"
     ]
    }
   ],
   "source": [
    "import requests\n",
    "import time\n",
    "\n",
    "urls = [\n",
    "     'https://images.pexels.com/photos/305821/pexels-photo-305821.jpeg',\n",
    "     'https://images.pexels.com/photos/509922/pexels-photo-509922.jpeg',\n",
    "     'https://images.pexels.com/photos/325812/pexels-photo-325812.jpeg',\n",
    "     'https://images.pexels.com/photos/1252814/pexels-photo-1252814.jpeg',\n",
    "     'https://images.pexels.com/photos/1420709/pexels-photo-1420709.jpeg',\n",
    "     'https://images.pexels.com/photos/963486/pexels-photo-963486.jpeg',\n",
    "     'https://images.pexels.com/photos/1557183/pexels-photo-1557183.jpeg',\n",
    "     'https://images.pexels.com/photos/3023211/pexels-photo-3023211.jpeg',\n",
    "     'https://images.pexels.com/photos/1031641/pexels-photo-1031641.jpeg',\n",
    "     'https://images.pexels.com/photos/439227/pexels-photo-439227.jpeg',\n",
    "     'https://images.pexels.com/photos/696644/pexels-photo-696644.jpeg',\n",
    "     'https://images.pexels.com/photos/911254/pexels-photo-911254.jpeg',\n",
    "     'https://images.pexels.com/photos/1001990/pexels-photo-1001990.jpeg',\n",
    "     'https://images.pexels.com/photos/3518623/pexels-photo-3518623.jpeg',\n",
    "     'https://images.pexels.com/photos/916044/pexels-photo-916044.jpeg'\n",
    "]\n",
    "\n",
    "def download(url):\n",
    "    img_data = requests.get(url).content\n",
    "    img_name = url.split('/')[4]\n",
    "    img_name = f'{img_name}.jpg'\n",
    "    with open(img_name, 'wb') as img_file:\n",
    "        img_file.write(img_data)\n",
    "        print(f'downloading {img_name}')\n",
    "\n",
    "t1 = time.perf_counter()\n",
    "for i in urls:\n",
    "     download(i)\n",
    "t2 = time.perf_counter()\n",
    "print(f'Finished in {round(t2-t1,2)} seconds') \n"
   ]
  },
  {
   "cell_type": "raw",
   "metadata": {},
   "source": [
    "Multiprocessing\n",
    "What is Multi-Processing-\n",
    "\n",
    "Let us say you are an elementary school student who is given the mind-numbing task of multiplying 1200 pairs of numbers as your homework. Let us say you are capable of multiplying a pair of numbers within 3 seconds. Then on a total, it takes 1200*3 = 3600 seconds, which is 1 hour to solve the entire assignment.  But you have to catch up on your favorite TV show in 20 minutes.\n",
    "\n",
    "What would you do? An intelligent student, though dishonest, will call up three more friends who have similar capacity and divide the assignment. So you’ll get 250 multiplications tasks on your plate, which you’ll complete in 250*3 = 750 seconds, that is 15 minutes. Thus, you along with your 3 other friends, will finish the task in 15 minutes, giving you 5 minutes time to grab a snack and sit for your TV show. The task just took 15 minutes when 4 of you work together, which otherwise would have taken 1 hour.\n",
    "\n",
    "This is the basic ideology of Multi-Processing. If you have an algorithm that can be divided into different workers(processors), then you can speed up the program. Machines nowadays come with 4,8 and 16 cores, which then can be deployed in parallel.\n",
    "\n",
    "\n",
    "What is multiprocessing?\n",
    "\n",
    "Multiprocessing refers to the ability of a system to support more than one processor at the same time. Applications in a multiprocessing system are broken to smaller routines that run independently. The operating system allocates these threads to the processors improving performance of the system.\n",
    "\n",
    "Why multiprocessing?\n",
    "\n",
    "Consider a computer system with a single processor. If it is assigned several processes at the same time, it will have to interrupt each task and switch briefly to another, to keep all of the processes going.\n",
    "This situation is just like a chef working in a kitchen alone. He has to do several tasks like baking, stirring, kneading dough, etc.\n",
    "\n",
    "\n",
    "So the gist is that: The more tasks you must do at once, the more difficult it gets to keep track of them all, and keeping the timing right becomes more of a challenge.\n",
    "This is where the concept of multiprocessing arises!\n",
    "A multiprocessing system can have:\n",
    "\n",
    "    multiprocessor, i.e. a computer with more than one central processor.\n",
    "    multi-core processor, i.e. a single computing component with two or more independent actual processing units (called “cores”)."
   ]
  },
  {
   "cell_type": "code",
   "execution_count": 55,
   "metadata": {},
   "outputs": [
    {
     "name": "stdout",
     "output_type": "stream",
     "text": [
      "Square: 100\n",
      "Cube: 1000\n",
      "Done!\n"
     ]
    }
   ],
   "source": [
    "# importing the multiprocessing module\n",
    "import multiprocessing\n",
    "\n",
    "def print_cube(num):\n",
    "    \"\"\"\n",
    "    function to print cube of given num\n",
    "    \"\"\"\n",
    "    print(\"Cube: {}\".format(num * num * num))\n",
    "\n",
    "def print_square(num):\n",
    "    \"\"\"\n",
    "    function to print square of given num\n",
    "    \"\"\"\n",
    "    print(\"Square: {}\".format(num * num))\n",
    "\n",
    "if __name__ == \"__main__\":\n",
    "# creating processes\n",
    "    p1 = multiprocessing.Process(target=print_square, args=(10, ))\n",
    "    p2 = multiprocessing.Process(target=print_cube, args=(10, ))\n",
    "\n",
    "    # starting process 1\n",
    "    p1.start()\n",
    "    # starting process 2\n",
    "    p2.start()\n",
    "\n",
    "    # wait until process 1 is finished\n",
    "    p1.join()\n",
    "    # wait until process 2 is finished\n",
    "    p2.join()\n",
    "\n",
    "    # both processes finished\n",
    "    print(\"Done!\")\n"
   ]
  },
  {
   "cell_type": "code",
   "execution_count": 56,
   "metadata": {},
   "outputs": [
    {
     "name": "stdout",
     "output_type": "stream",
     "text": [
      "ID of main process: 28721\n",
      "ID of process running worker1: 29630\n",
      "ID of process running worker2: 29633\n",
      "ID of process p1: 29630\n",
      "ID of process p2: 29633\n",
      "Both processes finished execution!\n",
      "Process p1 is alive: False\n",
      "Process p2 is alive: False\n"
     ]
    }
   ],
   "source": [
    "# importing the multiprocessing module\n",
    "import multiprocessing\n",
    "import os\n",
    "\n",
    "def worker1():\n",
    "# printing process id\n",
    "    print(\"ID of process running worker1: {}\".format(os.getpid()))\n",
    "\n",
    "def worker2():\n",
    "    # printing process id\n",
    "    print(\"ID of process running worker2: {}\".format(os.getpid()))\n",
    "\n",
    "if __name__ == \"__main__\":\n",
    "    # printing main program process id\n",
    "    print(\"ID of main process: {}\".format(os.getpid()))\n",
    "\n",
    "    # creating processes\n",
    "    p1 = multiprocessing.Process(target=worker1)\n",
    "    p2 = multiprocessing.Process(target=worker2)\n",
    "\n",
    "    # starting processes\n",
    "    p1.start()\n",
    "    p2.start()\n",
    "\n",
    "    # process IDs\n",
    "    print(\"ID of process p1: {}\".format(p1.pid))\n",
    "    print(\"ID of process p2: {}\".format(p2.pid))\n",
    "\n",
    "    # wait until processes are finished\n",
    "    p1.join()\n",
    "    p2.join()\n",
    "\n",
    "    # both processes finished\n",
    "    print(\"Both processes finished execution!\")\n",
    "\n",
    "    # check if processes are alive\n",
    "    print(\"Process p1 is alive: {}\".format(p1.is_alive()))\n",
    "    print(\"Process p2 is alive: {}\".format(p2.is_alive()))\n"
   ]
  },
  {
   "cell_type": "code",
   "execution_count": 11,
   "metadata": {},
   "outputs": [
    {
     "name": "stdout",
     "output_type": "stream",
     "text": [
      "Starting to sleep\n",
      "Done sleeping\n",
      "Starting to sleep\n",
      "Done sleeping\n",
      "Done in 2.0137 seconds\n"
     ]
    }
   ],
   "source": [
    "import time\n",
    "\n",
    "def sleepy_man():\n",
    "    print('Starting to sleep')\n",
    "    time.sleep(1)\n",
    "    print('Done sleeping')\n",
    "\n",
    "tic = time.time()\n",
    "sleepy_man()\n",
    "sleepy_man()\n",
    "toc = time.time()\n",
    "\n",
    "print('Done in {:.4f} seconds'.format(toc-tic))\n"
   ]
  },
  {
   "cell_type": "code",
   "execution_count": null,
   "metadata": {},
   "outputs": [],
   "source": []
  },
  {
   "cell_type": "code",
   "execution_count": null,
   "metadata": {},
   "outputs": [],
   "source": []
  },
  {
   "cell_type": "code",
   "execution_count": null,
   "metadata": {},
   "outputs": [],
   "source": []
  },
  {
   "cell_type": "code",
   "execution_count": null,
   "metadata": {},
   "outputs": [],
   "source": []
  },
  {
   "cell_type": "code",
   "execution_count": null,
   "metadata": {},
   "outputs": [],
   "source": []
  },
  {
   "cell_type": "code",
   "execution_count": null,
   "metadata": {},
   "outputs": [],
   "source": []
  },
  {
   "cell_type": "code",
   "execution_count": null,
   "metadata": {},
   "outputs": [],
   "source": []
  },
  {
   "cell_type": "code",
   "execution_count": null,
   "metadata": {},
   "outputs": [],
   "source": []
  },
  {
   "cell_type": "code",
   "execution_count": null,
   "metadata": {},
   "outputs": [],
   "source": []
  }
 ],
 "metadata": {
  "kernelspec": {
   "display_name": "Python 3",
   "language": "python",
   "name": "python3"
  },
  "language_info": {
   "codemirror_mode": {
    "name": "ipython",
    "version": 3
   },
   "file_extension": ".py",
   "mimetype": "text/x-python",
   "name": "python",
   "nbconvert_exporter": "python",
   "pygments_lexer": "ipython3",
   "version": "3.8.8"
  }
 },
 "nbformat": 4,
 "nbformat_minor": 4
}
