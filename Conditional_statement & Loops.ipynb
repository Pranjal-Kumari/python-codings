{
 "cells": [
  {
   "cell_type": "code",
   "execution_count": null,
   "metadata": {},
   "outputs": [],
   "source": [
    "if BOOLEAN EXPRESSION:\n",
    "    STATEMENTS"
   ]
  },
  {
   "cell_type": "code",
   "execution_count": null,
   "metadata": {},
   "outputs": [],
   "source": [
    "#A few important things to note about if statements:\n",
    "\n",
    " #   The colon (:) is significant and required. It separates the header of the compound statement from the body.\n",
    " #   The line after the colon must be indented. It is standard in Python to use four spaces or 1 tab for indenting.\n",
    "#    All lines indented the same amount after the colon will be executed whenever the BOOLEAN_EXPRESSION is true.\n"
   ]
  },
  {
   "cell_type": "code",
   "execution_count": 12,
   "metadata": {},
   "outputs": [
    {
     "name": "stdout",
     "output_type": "stream",
     "text": [
      "Ummmm, my favorite!\n",
      "I feel like saying it 100 times...\n",
      "spam! spam! spam! spam! spam! spam! spam! spam! spam! spam! spam! spam! spam! spam! spam! spam! spam! spam! spam! spam! spam! spam! spam! spam! spam! spam! spam! spam! spam! spam! spam! spam! spam! spam! spam! spam! spam! spam! spam! spam! spam! spam! spam! spam! spam! spam! spam! spam! spam! spam! spam! spam! spam! spam! spam! spam! spam! spam! spam! spam! spam! spam! spam! spam! spam! spam! spam! spam! spam! spam! spam! spam! spam! spam! spam! spam! spam! spam! spam! spam! spam! spam! spam! spam! spam! spam! spam! spam! spam! spam! spam! spam! spam! spam! spam! spam! spam! spam! spam! spam! \n"
     ]
    }
   ],
   "source": [
    "food = 'spam'\n",
    "\n",
    "if food == 'spam':\n",
    "    print('Ummmm, my favorite!')\n",
    "    print('I feel like saying it 100 times...')\n",
    "    print(100 * (food + '! '))"
   ]
  },
  {
   "cell_type": "code",
   "execution_count": 1,
   "metadata": {},
   "outputs": [
    {
     "data": {
      "text/plain": [
       "\"The boolean expression after the if statement is called the condition. If it is true,\\nthen all the indented statements get executed. What happens if the condition is false, and food is not equal \\nto 'spam'? In a simple if statement like this, nothing happens, and the program continues on to the next statement.\\n\""
      ]
     },
     "execution_count": 1,
     "metadata": {},
     "output_type": "execute_result"
    }
   ],
   "source": [
    "\"\"\"The boolean expression after the if statement is called the condition. If it is true,\n",
    "then all the indented statements get executed. What happens if the condition is false, and food is not equal \n",
    "to 'spam'? In a simple if statement like this, nothing happens, and the program continues on to the next statement.\n",
    "\"\"\""
   ]
  },
  {
   "cell_type": "code",
   "execution_count": 2,
   "metadata": {},
   "outputs": [],
   "source": [
    "#The if else statement\n",
    "#the case that you want one thing to happen when a condition it true, and something else to happen when it is \n",
    "#false. For that we have the if else statement."
   ]
  },
  {
   "cell_type": "code",
   "execution_count": 13,
   "metadata": {},
   "outputs": [
    {
     "name": "stdout",
     "output_type": "stream",
     "text": [
      "No, I won't have it. I want spam!\n"
     ]
    }
   ],
   "source": [
    "if food != 'spam':\n",
    "    print('Ummmm, my favorite!')\n",
    "else:\n",
    "    print(\"No, I won't have it. I want spam!\")\n"
   ]
  },
  {
   "cell_type": "code",
   "execution_count": 3,
   "metadata": {},
   "outputs": [
    {
     "data": {
      "text/plain": [
       "\"the first print statement will execute if food is equal to 'spam', and the print statement \\nindented under the else clause will get executed when it is not.\""
      ]
     },
     "execution_count": 3,
     "metadata": {},
     "output_type": "execute_result"
    }
   ],
   "source": [
    "\"\"\"the first print statement will execute if food is equal to 'spam', and the print statement \n",
    "indented under the else clause will get executed when it is not.\"\"\""
   ]
  },
  {
   "cell_type": "code",
   "execution_count": null,
   "metadata": {},
   "outputs": [],
   "source": [
    "if BOOLEAN EXPRESSION:\n",
    "    STATEMENTS_1        # executed if condition evaluates to True\n",
    "else:\n",
    "    STATEMENTS_2        # executed if condition evaluates to False"
   ]
  },
  {
   "cell_type": "code",
   "execution_count": null,
   "metadata": {},
   "outputs": [],
   "source": [
    "#Chained conditionals\n",
    "if x < y:\n",
    "    STATEMENTS_A\n",
    "elif x > y:\n",
    "    STATEMENTS_B\n",
    "else:\n",
    "    STATEMENTS_C"
   ]
  },
  {
   "cell_type": "code",
   "execution_count": 4,
   "metadata": {},
   "outputs": [
    {
     "data": {
      "text/plain": [
       "'elif is an abbreviation of else if. Again, exactly one branch will be executed.\\nThere is no limit of the number of elif statements but only a single (and optional)\\nfinal else statement is allowed and it must be the last branch in the statement:'"
      ]
     },
     "execution_count": 4,
     "metadata": {},
     "output_type": "execute_result"
    }
   ],
   "source": [
    "\"\"\"elif is an abbreviation of else if. Again, exactly one branch will be executed.\n",
    "There is no limit of the number of elif statements but only a single (and optional)\n",
    "final else statement is allowed and it must be the last branch in the statement:\"\"\""
   ]
  },
  {
   "cell_type": "code",
   "execution_count": null,
   "metadata": {},
   "outputs": [],
   "source": []
  },
  {
   "cell_type": "code",
   "execution_count": 15,
   "metadata": {},
   "outputs": [
    {
     "name": "stdout",
     "output_type": "stream",
     "text": [
      "You chose 'b'.\n"
     ]
    }
   ],
   "source": [
    "choice = \"b\"\n",
    "if choice == 'a':\n",
    "    print(\"You chose 'a'.\")\n",
    "elif choice == 'b':\n",
    "    print(\"You chose 'b'.\")\n",
    "elif choice == 'c':\n",
    "    print(\"You chose 'c'.\")\n",
    "else:\n",
    "    print(\"Invalid choice.\")"
   ]
  },
  {
   "cell_type": "code",
   "execution_count": null,
   "metadata": {},
   "outputs": [],
   "source": [
    "#The for loop\n",
    "#The for loop processes each item in a sequence, so it is used with Python’s sequence data types - strings, \n",
    "#lists, and tuples."
   ]
  },
  {
   "cell_type": "code",
   "execution_count": null,
   "metadata": {},
   "outputs": [],
   "source": [
    "#The loop variable is created when the for statement runs, so you do not need to create the variable before then.\n",
    "#Each iteration assigns the the loop variable to the next element in the sequence, and then executes the statements\n",
    "#in the body. The statement finishes when the last element in the sequence is reached.\n",
    "for new_var in sequence:\n",
    "    statements"
   ]
  },
  {
   "cell_type": "code",
   "execution_count": 8,
   "metadata": {},
   "outputs": [
    {
     "name": "stdout",
     "output_type": "stream",
     "text": [
      "Hi Margot.  Please come to my party on Saturday!\n",
      "Hi Kathryn.  Please come to my party on Saturday!\n",
      "Hi Prisila.  Please come to my party on Saturday!\n"
     ]
    }
   ],
   "source": [
    "for friend in ['Margot', 'Kathryn', 'Prisila']:\n",
    "    invitation = \"Hi \" + friend + \".  Please come to my party on Saturday!\"\n",
    "    print(invitation)"
   ]
  },
  {
   "cell_type": "code",
   "execution_count": 9,
   "metadata": {},
   "outputs": [
    {
     "name": "stdout",
     "output_type": "stream",
     "text": [
      "i is now: 0\n",
      "i is now: 1\n",
      "i is now: 2\n",
      "i is now: 3\n",
      "i is now: 4\n"
     ]
    }
   ],
   "source": [
    "for i in range(5):\n",
    "     print('i is now:', i)"
   ]
  },
  {
   "cell_type": "code",
   "execution_count": 16,
   "metadata": {},
   "outputs": [
    {
     "name": "stdout",
     "output_type": "stream",
     "text": [
      "0 \t 1\n",
      "1 \t 1\n",
      "2 \t 4\n",
      "3 \t 27\n",
      "4 \t 256\n",
      "5 \t 3125\n",
      "6 \t 46656\n",
      "7 \t 823543\n",
      "8 \t 16777216\n",
      "9 \t 387420489\n",
      "10 \t 10000000000\n",
      "11 \t 285311670611\n",
      "12 \t 8916100448256\n"
     ]
    }
   ],
   "source": [
    "for x in range(13):   # Generate numbers 0 to 12\n",
    "    print(x, '\\t', x**x)"
   ]
  },
  {
   "cell_type": "code",
   "execution_count": null,
   "metadata": {},
   "outputs": [],
   "source": [
    "#while\n",
    "while Boolean expression:\n",
    "    Statements"
   ]
  },
  {
   "cell_type": "code",
   "execution_count": 5,
   "metadata": {},
   "outputs": [
    {
     "name": "stdout",
     "output_type": "stream",
     "text": [
      "What is the meaning of life, the universe, and everything? 32\n",
      "What is the meaning of life, the universe, and everything? 45\n",
      "What is the meaning of life, the universe, and everything? 0\n",
      "What is the meaning of life, the universe, and everything? 1\n",
      "What is the meaning of life, the universe, and everything? 42\n"
     ]
    }
   ],
   "source": [
    "num = 0\n",
    "p = \"What is the meaning of life, the universe, and everything? \"\n",
    "while num != \"42\":\n",
    "    num = input(p)\n",
    "    "
   ]
  },
  {
   "cell_type": "code",
   "execution_count": null,
   "metadata": {},
   "outputs": [],
   "source": []
  },
  {
   "cell_type": "code",
   "execution_count": 10,
   "metadata": {},
   "outputs": [
    {
     "name": "stdout",
     "output_type": "stream",
     "text": [
      "55\n"
     ]
    }
   ],
   "source": [
    "n = 10\n",
    "sum = 0\n",
    "i = 1\n",
    "while i <= n:\n",
    "    sum += i\n",
    "    i = i + 1 #update counter\n",
    "print(sum)"
   ]
  },
  {
   "cell_type": "code",
   "execution_count": 7,
   "metadata": {},
   "outputs": [
    {
     "name": "stdout",
     "output_type": "stream",
     "text": [
      "Inside loop\n",
      "Inside loop\n",
      "Inside loop\n",
      "Inside else\n"
     ]
    }
   ],
   "source": [
    "counter = 0\n",
    "while counter < 3:\n",
    "    print(\"Inside loop\")\n",
    "    counter = counter + 1\n",
    "else:\n",
    "    print(\"Inside else\")"
   ]
  },
  {
   "cell_type": "code",
   "execution_count": null,
   "metadata": {},
   "outputs": [],
   "source": []
  },
  {
   "cell_type": "code",
   "execution_count": 6,
   "metadata": {},
   "outputs": [],
   "source": [
    "#break, continue"
   ]
  },
  {
   "cell_type": "code",
   "execution_count": null,
   "metadata": {},
   "outputs": [],
   "source": []
  },
  {
   "cell_type": "code",
   "execution_count": 9,
   "metadata": {},
   "outputs": [
    {
     "name": "stdout",
     "output_type": "stream",
     "text": [
      "\n",
      "Here is a list of the Python keywords.  Enter any keyword to get more help.\n",
      "\n",
      "False               class               from                or\n",
      "None                continue            global              pass\n",
      "True                def                 if                  raise\n",
      "and                 del                 import              return\n",
      "as                  elif                in                  try\n",
      "assert              else                is                  while\n",
      "async               except              lambda              with\n",
      "await               finally             nonlocal            yield\n",
      "break               for                 not                 \n",
      "\n"
     ]
    }
   ],
   "source": [
    "help(\"keywords\")"
   ]
  },
  {
   "cell_type": "code",
   "execution_count": null,
   "metadata": {},
   "outputs": [],
   "source": [
    "#break statements\n",
    "#The break statement is used to immediately leave the body of its loop."
   ]
  },
  {
   "cell_type": "code",
   "execution_count": 12,
   "metadata": {},
   "outputs": [
    {
     "name": "stdout",
     "output_type": "stream",
     "text": [
      "12\n",
      "16\n",
      "done\n"
     ]
    }
   ],
   "source": [
    "for i in [12,16,17,24,29]:\n",
    "    if i % 2 == 1:  #if number is odd\n",
    "        break\n",
    "    print(i)\n",
    "print(\"done\")"
   ]
  },
  {
   "cell_type": "code",
   "execution_count": 13,
   "metadata": {},
   "outputs": [
    {
     "name": "stdout",
     "output_type": "stream",
     "text": [
      "a\n",
      "b\n",
      "done\n"
     ]
    }
   ],
   "source": [
    "s = [\"a\",\"b\",\"c\",\"d\"]\n",
    "for i in s:\n",
    "    if i == \"c\":\n",
    "        break\n",
    "    print(i)\n",
    "print(\"done\")"
   ]
  },
  {
   "cell_type": "code",
   "execution_count": 18,
   "metadata": {},
   "outputs": [
    {
     "name": "stdout",
     "output_type": "stream",
     "text": [
      "P\n",
      "y\n",
      "t\n"
     ]
    }
   ],
   "source": [
    "for val in \"Python\":\n",
    "    if val == \"h\":\n",
    "        #print(val)\n",
    "        break\n",
    "    print(val)"
   ]
  },
  {
   "cell_type": "code",
   "execution_count": null,
   "metadata": {},
   "outputs": [],
   "source": [
    "#continue\n",
    "#This is a control flow statement that causes the program to immediately skip the processing \n",
    "#of the rest of the body of the loop, for the current iteration.\n",
    "#But the loop still carries on running for its remaining iterations"
   ]
  },
  {
   "cell_type": "code",
   "execution_count": 20,
   "metadata": {},
   "outputs": [
    {
     "name": "stdout",
     "output_type": "stream",
     "text": [
      "12\n",
      "16\n",
      "24\n",
      "50\n",
      "88\n",
      "done\n"
     ]
    }
   ],
   "source": [
    "for i in [12,16,17,24,29, 50,71,45,88]:\n",
    "    if i % 2 == 1:  #if number is odd\n",
    "        continue\n",
    "    print(i)\n",
    "print(\"done\")"
   ]
  },
  {
   "cell_type": "code",
   "execution_count": 21,
   "metadata": {},
   "outputs": [
    {
     "name": "stdout",
     "output_type": "stream",
     "text": [
      "a\n",
      "b\n",
      "d\n",
      "done\n"
     ]
    }
   ],
   "source": [
    "s = [\"a\",\"b\",\"c\",\"d\"]\n",
    "for i in s:\n",
    "    if i == \"c\":\n",
    "        continue\n",
    "    print(i)\n",
    "print(\"done\")"
   ]
  },
  {
   "cell_type": "code",
   "execution_count": 22,
   "metadata": {},
   "outputs": [
    {
     "name": "stdout",
     "output_type": "stream",
     "text": [
      "P\n",
      "y\n",
      "t\n",
      "o\n",
      "n\n"
     ]
    }
   ],
   "source": [
    "for val in \"Python\":\n",
    "    if val == \"h\":\n",
    "        #print(val)\n",
    "        continue\n",
    "    print(val)"
   ]
  },
  {
   "cell_type": "code",
   "execution_count": 23,
   "metadata": {},
   "outputs": [
    {
     "name": "stdout",
     "output_type": "stream",
     "text": [
      "Please enter a sentence: I have to buy pen.\n",
      "your sentence with spaces removed\n",
      "Ihavetobuypen.\n"
     ]
    }
   ],
   "source": [
    "sentence = input(\"Please enter a sentence: \")\n",
    "no_spaces = \"\"\n",
    "for letter in sentence:\n",
    "    if letter != \" \":\n",
    "        no_spaces += letter\n",
    "print(\"your sentence with spaces removed\")\n",
    "print(no_spaces)"
   ]
  },
  {
   "cell_type": "code",
   "execution_count": 37,
   "metadata": {},
   "outputs": [
    {
     "name": "stdout",
     "output_type": "stream",
     "text": [
      "3\n"
     ]
    }
   ],
   "source": [
    "count = 0\n",
    "while count < 10:\n",
    "    count = count+3\n",
    "    print(count)\n",
    "    break\n",
    "    \n",
    "else:\n",
    "    print(\"No Break\")\n"
   ]
  },
  {
   "cell_type": "code",
   "execution_count": 1,
   "metadata": {},
   "outputs": [
    {
     "name": "stdout",
     "output_type": "stream",
     "text": [
      "1\n",
      "2\n",
      "3\n"
     ]
    }
   ],
   "source": [
    "i = 1\n",
    "while i < 6:\n",
    "    print(i)\n",
    "    if i == 3:\n",
    "        break\n",
    "    i += 1   #update counter\n",
    "    "
   ]
  },
  {
   "cell_type": "code",
   "execution_count": 2,
   "metadata": {},
   "outputs": [
    {
     "name": "stdout",
     "output_type": "stream",
     "text": [
      "1\n",
      "2\n",
      "3\n",
      "4\n",
      "5\n",
      "7\n",
      "8\n",
      "9\n",
      "10\n"
     ]
    }
   ],
   "source": [
    "i  = 0\n",
    "while i < 10:\n",
    "    i += 1   #update counter\n",
    "    if i == 6:\n",
    "        continue\n",
    "    print(i)"
   ]
  },
  {
   "cell_type": "code",
   "execution_count": null,
   "metadata": {},
   "outputs": [],
   "source": [
    "passing_Score = 60\n",
    "my_Score = 67\n",
    "if(my_Score >= passing_Score):\n",
    "             print(“You passed the exam”)\n",
    "print(\"Congratulations!\"\")"
   ]
  },
  {
   "cell_type": "code",
   "execution_count": null,
   "metadata": {},
   "outputs": [],
   "source": [
    "passing_Score = 60\n",
    "my_Score = 67\n",
    "if(my_Score >= passing_Score):\n",
    "             print(\"Congratulations! You passed the exam\")    \n",
    "             print(\"You are passed in the exam\")        \n",
    "else:\n",
    "             print(\"Sorry! You failed the exam, better luck next time\")\n",
    "\n"
   ]
  },
  {
   "cell_type": "code",
   "execution_count": 3,
   "metadata": {},
   "outputs": [
    {
     "name": "stdout",
     "output_type": "stream",
     "text": [
      "Number is greater than Zero\n"
     ]
    }
   ],
   "source": [
    "num = 7\n",
    "if (num < 0): print(\"Number is smaller than Zero\")\n",
    "elif (num > 0): print(\"Number is greater than Zero\")\n",
    "else: print(\"Number is Zero\")"
   ]
  },
  {
   "cell_type": "code",
   "execution_count": null,
   "metadata": {},
   "outputs": [],
   "source": [
    "num1 = 10\n",
    "num2 = 20\n",
    "num3 = 30\n",
    "if (num1 == 10 and num2 == 20 and num3 == 30):\n",
    "             print(\"All the conditions are true\")"
   ]
  },
  {
   "cell_type": "code",
   "execution_count": null,
   "metadata": {},
   "outputs": [],
   "source": [
    "fruitName = \"Apple\"\n",
    "if (fruitName == \"Mango\" or fruitName == \"Apple\" or fruitName == \"Grapes\"):\n",
    "              print(\"It’s a fruit\")"
   ]
  },
  {
   "cell_type": "code",
   "execution_count": null,
   "metadata": {},
   "outputs": [],
   "source": [
    "#What does “ == “ mean in Python?\n",
    "#How do you write if-else statements in Python?\n",
    "#"
   ]
  }
 ],
 "metadata": {
  "kernelspec": {
   "display_name": "Python 3",
   "language": "python",
   "name": "python3"
  },
  "language_info": {
   "codemirror_mode": {
    "name": "ipython",
    "version": 3
   },
   "file_extension": ".py",
   "mimetype": "text/x-python",
   "name": "python",
   "nbconvert_exporter": "python",
   "pygments_lexer": "ipython3",
   "version": "3.8.8"
  }
 },
 "nbformat": 4,
 "nbformat_minor": 4
}
